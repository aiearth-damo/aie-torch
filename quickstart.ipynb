{
 "cells": [
  {
   "attachments": {},
   "cell_type": "markdown",
   "id": "a6a97a0f",
   "metadata": {},
   "source": [
    "# Environment Setting"
   ]
  },
  {
   "cell_type": "code",
   "execution_count": null,
   "id": "e8833167",
   "metadata": {},
   "outputs": [],
   "source": [
    "import aie\n",
    "\n",
    "aie.Authenticate()\n",
    "aie.Initialize()\n",
    "\n",
    "work_dir = \"./work_dirs/tutorial\""
   ]
  },
  {
   "attachments": {},
   "cell_type": "markdown",
   "id": "694720a2",
   "metadata": {},
   "source": [
    "# Dataset"
   ]
  },
  {
   "cell_type": "code",
   "execution_count": null,
   "id": "4d6632ac",
   "metadata": {},
   "outputs": [],
   "source": [
    "# 下载样本集\n",
    "from aiearth.deeplearning.cloud.datasets import LandcoverDataset, PublicDatasetMeta\n",
    "gid_15_train_dataset = LandcoverDataset(PublicDatasetMeta.GID_15_TRAIN[\"dataset_id\"], data_root=work_dir)"
   ]
  },
  {
   "cell_type": "code",
   "execution_count": null,
   "id": "7325edce",
   "metadata": {},
   "outputs": [],
   "source": [
    "from aiearth.deeplearning.sampler import RandomNonGeoDatasetSampler\n",
    "# 随机按照80%， 20%进行切分成两个新样本集\n",
    "train_dataset, val_dataset = RandomNonGeoDatasetSampler.split_by_percent(gid_15_train_dataset, 0.8)\n",
    "# 随机提取20张图生成新样本集\n",
    "test_dataset = RandomNonGeoDatasetSampler.sample_by_count(gid_15_train_dataset, 20) "
   ]
  },
  {
   "attachments": {},
   "cell_type": "markdown",
   "id": "b0eb17d5",
   "metadata": {},
   "source": [
    "# Model"
   ]
  },
  {
   "cell_type": "code",
   "execution_count": null,
   "id": "ab75e20b",
   "metadata": {},
   "outputs": [],
   "source": [
    "# model\n",
    "from aiearth.deeplearning.trainer.mmseg import LandcoverTrainer\n",
    "\n",
    "trainer = LandcoverTrainer(work_dir=work_dir, config_name=\"fcn_hr48_1024x1024_16k_landcover\")"
   ]
  },
  {
   "attachments": {},
   "cell_type": "markdown",
   "id": "7aae3d3b",
   "metadata": {},
   "source": [
    "# Trainer Setting"
   ]
  },
  {
   "cell_type": "code",
   "execution_count": null,
   "id": "ea695a0a",
   "metadata": {},
   "outputs": [],
   "source": [
    "# 设置样本集\n",
    "trainer.setup_datasets(train_dataset)\n",
    "trainer.setup_datasets(val_dataset, data_type=\"val\")\n",
    "trainer.setup_datasets(test_dataset, data_type=\"test\")\n",
    "\n",
    "# 设置pretrained model\n",
    "from aiearth.deeplearning.model_zoo.model import PretrainedModel\n",
    "model = PretrainedModel(\"aie://LandCover/landcover_v1.6.pth\")\n",
    "trainer.load_from(model.local_path)\n",
    "\n",
    "# 设置训练参数\n",
    "trainer.cfg.runner[\"max_iters\"] = 2  \n",
    "trainer.cfg.checkpoint_config[\"interval\"]=1\n",
    "trainer.cfg.data.samples_per_gpu = 1"
   ]
  },
  {
   "cell_type": "code",
   "execution_count": null,
   "id": "4b1ad8c9",
   "metadata": {},
   "outputs": [],
   "source": [
    "# 训练\n",
    "trainer.train(validate=False)"
   ]
  },
  {
   "cell_type": "code",
   "execution_count": null,
   "id": "0a47ae7b",
   "metadata": {},
   "outputs": [],
   "source": [
    "import os\n",
    "# 保存的训练checkpoint路径\n",
    "checkpoint = os.path.join(work_dir, \"latest.pth\")"
   ]
  },
  {
   "attachments": {},
   "cell_type": "markdown",
   "id": "67aabb45",
   "metadata": {},
   "source": [
    "# Test"
   ]
  },
  {
   "cell_type": "code",
   "execution_count": null,
   "id": "15ea5c72",
   "metadata": {},
   "outputs": [],
   "source": [
    "trainer.test(checkpoint, output_dir=\"test_ret\")"
   ]
  },
  {
   "attachments": {},
   "cell_type": "markdown",
   "id": "312b836c",
   "metadata": {},
   "source": [
    "# Onnx Export"
   ]
  },
  {
   "cell_type": "code",
   "execution_count": null,
   "id": "5c17a922",
   "metadata": {},
   "outputs": [],
   "source": [
    "onnx_path = checkpoint.replace(\".pth\", \".onnx\")\n",
    "\n",
    "trainer.export_onnx(output_file=onnx_path, checkpoint_path=checkpoint,shape=(1024, 1024))"
   ]
  }
 ],
 "metadata": {
  "kernelspec": {
   "display_name": "Python 3",
   "language": "python",
   "name": "python3"
  },
  "language_info": {
   "codemirror_mode": {
    "name": "ipython",
    "version": 3
   },
   "file_extension": ".py",
   "mimetype": "text/x-python",
   "name": "python",
   "nbconvert_exporter": "python",
   "pygments_lexer": "ipython3",
   "version": "3.10.6 (main, Aug 11 2022, 13:49:01) [Clang 13.0.0 (clang-1300.0.29.30)]"
  },
  "vscode": {
   "interpreter": {
    "hash": "aee8b7b246df8f9039afb4144a1f6fd8d2ca17a180786b69acc140d282b71a49"
   }
  }
 },
 "nbformat": 4,
 "nbformat_minor": 5
}
